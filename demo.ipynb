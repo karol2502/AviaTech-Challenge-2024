{
 "cells": [
  {
   "cell_type": "markdown",
   "metadata": {},
   "source": [
    "### Zaimportowanie odpowiednich bibliotek"
   ]
  },
  {
   "cell_type": "code",
   "execution_count": null,
   "metadata": {},
   "outputs": [],
   "source": [
    "from langchain_openai.chat_models import ChatOpenAI\n",
    "from langchain_core.output_parsers import StrOutputParser\n",
    "from langchain.prompts import ChatPromptTemplate\n",
    "from langchain_community.document_loaders import TextLoader\n",
    "from langchain.text_splitter import RecursiveCharacterTextSplitter\n",
    "from langchain_openai.embeddings import OpenAIEmbeddings\n",
    "from langchain_core.runnables import RunnableParallel, RunnablePassthrough\n",
    "from langchain_community.vectorstores import DocArrayInMemorySearch\n",
    "import os"
   ]
  },
  {
   "cell_type": "markdown",
   "metadata": {},
   "source": [
    "### Wczytanie klucza pozwolającego łączenie się z API od OpenAI oraz zawarcie odpowiedniego schematu :\n",
    "### Dodatkowe informacje do modelu -> zapytanie -> odpowiedź"
   ]
  },
  {
   "cell_type": "code",
   "execution_count": 2,
   "metadata": {},
   "outputs": [],
   "source": [
    "OPENAI_API_KEY = os.getenv(\"OPENAI_API_KEY\")\n",
    "\n",
    "model = ChatOpenAI(openai_api_key=OPENAI_API_KEY, model=\"gpt-3.5-turbo\")\n",
    "parser = StrOutputParser()\n",
    "template = \"\"\"\n",
    "        Answer the question based on the context below. If you can't \n",
    "        answer the question, reply \"I don't know\".\n",
    "\n",
    "        Context: {context}\n",
    "\n",
    "        Question: {question}\n",
    "        \"\"\"\n",
    "prompt = ChatPromptTemplate.from_template(template) \n"
   ]
  },
  {
   "cell_type": "markdown",
   "metadata": {},
   "source": [
    "### Plik text.txt zawiera  Informacje dla podróżujących do Tajlandii (dla prostoty został zastosowany plik z samą Tajlandią) ze strony \n",
    "### [www.gov.pl/web/tajlandia/idp](https://www.gov.pl/web/tajlandia/idp)\n",
    "\n",
    "### Następnie, te dane są w odpowiedni sposób przekazywane do modelu, dzięki czemu jest w stanie podać precyzyjną odpowiedź"
   ]
  },
  {
   "cell_type": "code",
   "execution_count": null,
   "metadata": {},
   "outputs": [],
   "source": [
    "loader = TextLoader(\"text.txt\", encoding='utf-8')\n",
    "text_documents = loader.load()\n",
    "\n",
    "text_splitter = RecursiveCharacterTextSplitter(chunk_size=1000, chunk_overlap=20)\n",
    "document = text_splitter.split_documents(text_documents)\n",
    "embeddings = OpenAIEmbeddings()\n",
    "\n",
    "vectorstore2 = DocArrayInMemorySearch.from_documents(document, embeddings)\n",
    "setup = RunnableParallel(context=vectorstore2.as_retriever(), question=RunnablePassthrough())\n"
   ]
  },
  {
   "cell_type": "code",
   "execution_count": 4,
   "metadata": {},
   "outputs": [
    {
     "name": "stdout",
     "output_type": "stream",
     "text": [
      "Nie, obywatele polscy podróżujący do Tajlandii w celu turystycznym do 30 dni nie muszą mieć wizy. Jednak, w przypadku podróży w celu innym niż turystyczny lub gdy pobyt turystyczny ma być dłuższy niż 30 dni, wiza jest wymagana.\n"
     ]
    }
   ],
   "source": [
    "chain = setup | prompt | model | parser\n",
    "anwser = chain.invoke(\"Czy do podróży po Tajlandii potrzebuje wizy?\")\n",
    "print(anwser)"
   ]
  },
  {
   "cell_type": "markdown",
   "metadata": {},
   "source": [
    "![alt text](tajlandia_demo.png)\n",
    "\n",
    "### Jak widąć, odpowiedź jest identyczna co do treści względem oficjalnej strony gov.pl"
   ]
  },
  {
   "cell_type": "markdown",
   "metadata": {},
   "source": [
    "### Przykład, jak ten sam model językowy zachowa się na to samo pytanie, bez naszej metody przekazywanie dodatkowych informacji do modelu"
   ]
  },
  {
   "cell_type": "code",
   "execution_count": 26,
   "metadata": {},
   "outputs": [
    {
     "name": "stdout",
     "output_type": "stream",
     "text": [
      "content='Odpowiedź zależy od kraju, z którego pochodzisz. Obywatele wielu krajów, w tym Polski, mogą podróżować do Tajlandii bez wizy na pobyt turystyczny do 30 dni. Jednak warto sprawdzić najnowsze informacje na stronie ambasady Tajlandii w Twoim kraju, aby upewnić się, czy potrzebujesz wizy do podróży.' response_metadata={'token_usage': {'completion_tokens': 108, 'prompt_tokens': 24, 'total_tokens': 132}, 'model_name': 'gpt-3.5-turbo', 'system_fingerprint': None, 'finish_reason': 'stop', 'logprobs': None} id='run-e8520f30-3054-4601-b6b9-7429786c8e11-0'\n"
     ]
    }
   ],
   "source": [
    "model = ChatOpenAI(openai_api_key=OPENAI_API_KEY, model=\"gpt-3.5-turbo\")\n",
    "prompt = ChatPromptTemplate.from_template(template) \n",
    "chain = prompt | model | parser\n",
    "anwser = model.invoke(\"Czy do podróży po Tajlandii potrzebuje wizy?\")\n",
    "print(anwser)"
   ]
  },
  {
   "cell_type": "markdown",
   "metadata": {},
   "source": [
    "### Odpowiedź jest niekompletna, nie zawiera informacji o możliwości przebywanie bez wizy do 30 dni."
   ]
  },
  {
   "cell_type": "markdown",
   "metadata": {},
   "source": [
    "### Demo przedstawia interakcje z dokumentami związanimy ze stroną gov.pl odnośnie informacji dla podróżujących, nastomiast schemat działania będzie podobny dla reszty proponowanych przez nas możliwości związanych z tekstem - zbiernie informacji przez api na temat pogody czy też informacji o ciekawych miejsc do zwiedzenia w zależnosci od wymagań użytkownika"
   ]
  },
  {
   "cell_type": "markdown",
   "metadata": {},
   "source": [
    "### Nasze rozwiązanie pozwala na komunikowanie się modelu z całą bazą danych, gdzie ilość informacji znacznie przerasta ilość treści jaką model jest w stanie pomieścić - dzięki odpowiedniej selekcji fragmentów danych na podstawie podobieństwa do zapytania, jesteśmy w stanie skorzystać ze złożonych i dużych baz danych do zapewnienia dokładności działania modelu, gdzie zwykłe przekazanie całego fragmentu zakończyło by się błędem i możliwością utraty kluczowych informacji."
   ]
  },
  {
   "cell_type": "markdown",
   "metadata": {},
   "source": [
    "## Demo wizja"
   ]
  },
  {
   "cell_type": "markdown",
   "metadata": {},
   "source": [
    "### Demo poniżej przedstawia zastosowania możliwości wizyjnych i "
   ]
  },
  {
   "cell_type": "code",
   "execution_count": 9,
   "metadata": {},
   "outputs": [],
   "source": [
    "from openai import OpenAI\n",
    "\n",
    "client = OpenAI()\n",
    "\n",
    "response = client.chat.completions.create(\n",
    "  model=\"gpt-4o\",\n",
    "  messages=[\n",
    "    {\n",
    "      \"role\": \"user\",\n",
    "      \"content\": [\n",
    "        {\"type\": \"text\", \"text\": \"Czy na tym zdjęciu znajduję się coś co nie mogę wziąć do samolotu?\"},\n",
    "        {\n",
    "          \"type\": \"image_url\",\n",
    "          \"image_url\": {\n",
    "            \"url\": \"https://www.tsi-mag.com/wp-content/uploads/2023/06/London-City-Airport-Scanners.png\",\n",
    "          },\n",
    "        },\n",
    "      ],\n",
    "    }\n",
    "  ],\n",
    "  max_tokens=300,\n",
    ")"
   ]
  },
  {
   "cell_type": "markdown",
   "metadata": {},
   "source": [
    "![alt text](wizja_demo.png)"
   ]
  },
  {
   "cell_type": "code",
   "execution_count": 21,
   "metadata": {},
   "outputs": [
    {
     "data": {
      "text/plain": [
       "'Na zdjęciu znajduje się plastikowa taca z kilkoma przedmiotami. Przyjrzyjmy się im pod kątem zasad bezpieczeństwa obowiązujących na lotniskach:\\n\\n1. **Laptop**: Jest dozwolony w bagażu podręcznym.\\n2. **Krem ochronny w płynie (SPF 50+)**: Płyny w bagażu podręcznym są dozwolone tylko w pojemnikach do 100 ml. Większe butelki muszą być przewożone w bagażu rejestrowanym.\\n3. **Butelka z wodą lub innym napojem**: Płyny powyżej 100 ml nie są dozwolone w bagażu podręcznym. Można zabrać pustą butelkę i napełnić ją po przejściu kontroli bezpieczeństwa.\\n4. **Elektronika**: Jeśli są to drobne urządzenia jak zegarek, są one dozwolone w bagażu podręcznym.\\n\\nPodsumowując: Krem ochronny i butelka z wodą prawdopodobnie przekraczają dozwoloną objętość 100 ml płynów w bagażu podręcznym i powinny zostać przeniesione do bagażu rejestrowanego. Pozostałe przedmioty są dozw'"
      ]
     },
     "execution_count": 21,
     "metadata": {},
     "output_type": "execute_result"
    }
   ],
   "source": [
    "response.dict()['choices'][0]['message']['content']"
   ]
  },
  {
   "cell_type": "markdown",
   "metadata": {},
   "source": [
    "### Jak widać powyżej, model poprawnie zauważył, że na zdjęciu które może obrazować osobę pakującą się na lot, znajduję się duża butelka wody która może sprawić problemy przy kontroli bezpieczeństwa na lotnisku. Dalsze prace pozwolą na znaczne udoskonalenie analizy zawartości bagażu"
   ]
  },
  {
   "cell_type": "markdown",
   "metadata": {},
   "source": [
    "'Na zdjęciu znajduje się plastikowa taca z kilkoma przedmiotami. Przyjrzyjmy się im pod kątem zasad bezpieczeństwa obowiązujących na lotniskach:\\n\\n1. **Laptop**: Jest dozwolony w bagażu podręcznym.\\n2. **Krem ochronny w płynie (SPF 50+)**: Płyny w bagażu podręcznym są dozwolone tylko w pojemnikach do 100 ml. Większe butelki muszą być przewożone w bagażu rejestrowanym.\\n3. **Butelka z wodą lub innym napojem**: Płyny powyżej 100 ml nie są dozwolone w bagażu podręcznym. Można zabrać pustą bute                                                                                                                            lkę i napełnić ją po przejściu kontroli bezpieczeństwa.\\n4. **Elektronika**: Jeśli są to drobne urządzenia jak zegarek, są one dozwolone w bagażu podręcznym.\\n\\nPodsumowując: Krem ochronny i butelka z wodą prawdopodobnie przekraczają dozwoloną objętość 100 ml płynów w bagażu podręcznym i powinny zostać przeniesione do bagażu rejestrowanego. Pozostałe przedmioty są dozw'\n",
    "\n"
   ]
  },
  {
   "cell_type": "code",
   "execution_count": null,
   "metadata": {},
   "outputs": [],
   "source": []
  },
  {
   "cell_type": "markdown",
   "metadata": {},
   "source": []
  },
  {
   "cell_type": "code",
   "execution_count": 25,
   "metadata": {},
   "outputs": [
    {
     "name": "stdout",
     "output_type": "stream",
     "text": [
      "- Zarejestrowanie się w systemie Odyseusz przed podróżą zagraniczną\n",
      "- Kontaktowanie się z Ambasadą RP w Bangkoku w przypadku pytań lub uwag\n",
      "- Odradzane podróże do południowych prowincji: Pattani, Yala, Narathiwat, Songkhla\n",
      "- Ostrożność związana z atakami terrorystycznymi w południowych prowincjach\n",
      "- Ostrzeżenie przed oszustwami związanych z kartami kredytowymi\n",
      "- Unikanie ofert pracy, które mogą być nielegalne\n",
      "- Unikanie pobytu na pograniczu z Mjanmą\n",
      "- Obowiązek meldunkowy i wypełnienie karty wjazdu/wyjazdu\n",
      "- Konieczność posiadania paszportu w Tajlandii\n",
      "- Szacunek wobec tradycji religijnych, np. nie dotykanie głowy Tajów\n",
      "- Uwaga na wymianę walut i korzystanie z taksówek\n",
      "- Przydatne numery alarmowe: 1669 (pogotowie ratunkowe, straż pożarna, policja), 199 (straż pożarna), 191 (policja), 1155 (policja turystyczna)\n",
      "- Kontaktowanie się z biurem podróży lub ubezpieczycielem w sytuacjach nagłych\n"
     ]
    }
   ],
   "source": [
    "chain = setup | prompt | model | parser\n",
    "anwser = chain.invoke(\"Wymień mi najważniejsze informacje o pobycie w Tajlandii\")\n",
    "print(anwser)"
   ]
  }
 ],
 "metadata": {
  "kernelspec": {
   "display_name": "Python 3",
   "language": "python",
   "name": "python3"
  },
  "language_info": {
   "codemirror_mode": {
    "name": "ipython",
    "version": 3
   },
   "file_extension": ".py",
   "mimetype": "text/x-python",
   "name": "python",
   "nbconvert_exporter": "python",
   "pygments_lexer": "ipython3",
   "version": "3.12.1"
  }
 },
 "nbformat": 4,
 "nbformat_minor": 2
}
